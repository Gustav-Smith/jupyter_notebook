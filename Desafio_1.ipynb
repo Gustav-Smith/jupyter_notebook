{
 "cells": [
  {
   "cell_type": "markdown",
   "id": "1c0fc75e-a08c-44eb-80f3-42bfd445d2e4",
   "metadata": {},
   "source": [
    "# Desafio: hora da prática"
   ]
  },
  {
   "cell_type": "markdown",
   "id": "413498d2-ba16-4bfa-bd90-9584678a861d",
   "metadata": {},
   "source": [
    "1. Escreva um código para instalar a versão 3.7.1 da biblioteca matplotlib."
   ]
  },
  {
   "cell_type": "code",
   "execution_count": null,
   "id": "eca84da2-90dd-478b-a027-c5285ea5a83c",
   "metadata": {},
   "outputs": [],
   "source": [
    "#!pip install matplotlib==3.7.1"
   ]
  },
  {
   "cell_type": "markdown",
   "id": "3867ad03-8478-4ebb-9c60-740cd22128b8",
   "metadata": {
    "jp-MarkdownHeadingCollapsed": true
   },
   "source": [
    "2. Escreva um código para importar a biblioteca numpy com o alias np."
   ]
  },
  {
   "cell_type": "code",
   "execution_count": 3,
   "id": "8e18a58a-a3bf-4946-b8d1-d1d450be33f7",
   "metadata": {},
   "outputs": [],
   "source": [
    "import numpy as np"
   ]
  },
  {
   "cell_type": "markdown",
   "id": "a86758bc-3ffa-4457-896b-37591d50c466",
   "metadata": {},
   "source": [
    "3. Crie um programa que leia a seguinte lista de números e escolha um número desta aleatoriamente."
   ]
  },
  {
   "cell_type": "code",
   "execution_count": 4,
   "id": "a4e7714f-057b-4a00-a160-72945ebe9daf",
   "metadata": {},
   "outputs": [
    {
     "data": {
      "text/plain": [
       "54"
      ]
     },
     "execution_count": 4,
     "metadata": {},
     "output_type": "execute_result"
    }
   ],
   "source": [
    "from random import choice\n",
    "lista = [8, 12, 54, 23, 43, 1, 90, 87, 105, 77]\n",
    "list = choice(lista)\n",
    "list"
   ]
  },
  {
   "cell_type": "markdown",
   "id": "b8b3bbad-84d6-4ca3-945b-fbf8eb6a3e8b",
   "metadata": {},
   "source": [
    "4. Crie um programa que sorteia, aleatoriamente, um número inteiro menor que 100."
   ]
  },
  {
   "cell_type": "code",
   "execution_count": 177,
   "id": "0dbadb1c-842b-487d-8459-26f6ab2aadf8",
   "metadata": {},
   "outputs": [
    {
     "data": {
      "text/plain": [
       "11"
      ]
     },
     "execution_count": 177,
     "metadata": {},
     "output_type": "execute_result"
    }
   ],
   "source": [
    "from random import randrange\n",
    "range = randrange(100)\n",
    "range"
   ]
  },
  {
   "cell_type": "markdown",
   "id": "9669f721-3e9a-4a71-ac2b-051271fbddd4",
   "metadata": {},
   "source": [
    "5. Crie um programa que solicite à pessoa usuária digitar dois números inteiros e calcular a potência do 1º número elevado ao 2º. \\\n",
    "   ***Dica: use a função pow() da biblioteca math***"
   ]
  },
  {
   "cell_type": "code",
   "execution_count": 189,
   "id": "58b9c56b-6929-4d36-8542-85d4bc529fe3",
   "metadata": {},
   "outputs": [
    {
     "name": "stdout",
     "output_type": "stream",
     "text": [
      "Enter x value:  2\n",
      "Enter y value:  2\n"
     ]
    },
    {
     "name": "stdout",
     "output_type": "stream",
     "text": [
      "4.0\n"
     ]
    }
   ],
   "source": [
    "import math \n",
    "def calculate_pow(a,b):\n",
    "    return math.pow(a,b)\n",
    "    \n",
    "x = int(input('Enter x value: '))\n",
    "y = int(input('Enter y value: '))\n",
    "print(calculate_pow(x,y))"
   ]
  },
  {
   "cell_type": "code",
   "execution_count": 192,
   "id": "5d7d90af-c0e4-47e0-8745-d32f24069ece",
   "metadata": {},
   "outputs": [
    {
     "name": "stdout",
     "output_type": "stream",
     "text": [
      "Enter the first integer (base):  2\n",
      "Enter the second integer (exponent):  2\n"
     ]
    },
    {
     "name": "stdout",
     "output_type": "stream",
     "text": [
      "2 raised to the power of 2 is 4\n"
     ]
    }
   ],
   "source": [
    "import math\n",
    "\n",
    "# Ask the user to input two integers\n",
    "base = int(input(\"Enter the first integer (base): \"))\n",
    "exponent = int(input(\"Enter the second integer (exponent): \"))\n",
    "\n",
    "# Calculate the power using the pow() function from the math library\n",
    "result = int(math.pow(base, exponent))\n",
    "\n",
    "# display the result\n",
    "print(f\"{base} raised to the power of {exponent} is {result}\")"
   ]
  },
  {
   "cell_type": "markdown",
   "id": "b47f0808-0c70-4acf-8636-2a7bceb11066",
   "metadata": {},
   "source": [
    "### Aplicando a projetos"
   ]
  },
  {
   "cell_type": "markdown",
   "id": "18f18a1d-de84-488b-a2b4-3f27d720300d",
   "metadata": {},
   "source": [
    "6. Um programa deve ser escrito para sortear uma pessoa seguidora de uma rede social para ganhar um prêmio. A lista de participantes é numerada e devemos escolher aleatoriamente um número de acordo com a quantidade de participantes. Peça à pessoa usuária para fornecer o número de participantes do sorteio e devolva para ela o número sorteado."
   ]
  },
  {
   "cell_type": "code",
   "execution_count": 195,
   "id": "84c4bdcb-a425-4e6f-9bbf-39dd762ebdb5",
   "metadata": {},
   "outputs": [
    {
     "name": "stdout",
     "output_type": "stream",
     "text": [
      "Digite o número de participantes 20\n"
     ]
    },
    {
     "name": "stdout",
     "output_type": "stream",
     "text": [
      "11\n"
     ]
    }
   ],
   "source": [
    "from random import randrange\n",
    "participantes = int(input(\"Digite o número de participantes\"))\n",
    "sorteio = randrange(participantes)\n",
    "print(sorteio)"
   ]
  },
  {
   "cell_type": "markdown",
   "id": "232e96a6-40b0-4510-be2d-bd85774518be",
   "metadata": {},
   "source": [
    "7. Você recebeu uma demanda para gerar números de token para acessar o aplicativo de uma empresa. O token precisa ser par e variar de 1000 até 9998. Escreva um código que solicita à pessoa usuária o seu nome e exibe uma mensagem junto a esse token gerado aleatoriamente. \\\n",
    "   ***\"Olá, [nome], o seu token de acesso é [token]! Seja bem-vindo(a)!\"***\n",
    "   "
   ]
  },
  {
   "cell_type": "code",
   "execution_count": 1,
   "id": "17f08322-660b-4f9c-98ab-fc20234a6640",
   "metadata": {},
   "outputs": [
    {
     "name": "stdout",
     "output_type": "stream",
     "text": [
      "Olá, Gustavo, o seu token de acesso é 9042! Seja bem-vindo(a)!\n"
     ]
    }
   ],
   "source": [
    "from random import randrange\n",
    "# nome = input(\"Digite seu nome\")\n",
    "nome = (\"Gustavo\")\n",
    "token = randrange(1000, 9998)\n",
    "if (token % 2 == 0):\n",
    "    print (f\"Olá, {nome}, o seu token de acesso é {token}! Seja bem-vindo(a)!\")\n",
    "else:\n",
    "    \"empty\""
   ]
  },
  {
   "cell_type": "code",
   "execution_count": null,
   "id": "c0f9a156-c64d-4ee0-8aee-c9e283402cdf",
   "metadata": {},
   "outputs": [],
   "source": []
  }
 ],
 "metadata": {
  "kernelspec": {
   "display_name": "Python 3 (ipykernel)",
   "language": "python",
   "name": "python3"
  },
  "language_info": {
   "codemirror_mode": {
    "name": "ipython",
    "version": 3
   },
   "file_extension": ".py",
   "mimetype": "text/x-python",
   "name": "python",
   "nbconvert_exporter": "python",
   "pygments_lexer": "ipython3",
   "version": "3.10.13"
  }
 },
 "nbformat": 4,
 "nbformat_minor": 5
}
